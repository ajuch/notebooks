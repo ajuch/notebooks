{
 "cells": [
  {
   "cell_type": "markdown",
   "metadata": {},
   "source": [
    "# IPv6"
   ]
  },
  {
   "cell_type": "code",
   "execution_count": 4,
   "metadata": {},
   "outputs": [],
   "source": [
    "#load \"Paket.fsx\"\n",
    "Paket.Package [\"FSharp.Data\"]\n",
    "#load \"Paket.Generated.Refs.fsx\""
   ]
  },
  {
   "cell_type": "code",
   "execution_count": 23,
   "metadata": {},
   "outputs": [],
   "source": [
    "open FSharp.Data\n",
    "type AkamaiIpv6ByCountry = JsonProvider<\"https://www.akamai.com/fetch-dv-data/ipv6/country.json\">\n",
    "type CountryTranslations = JsonProvider<\"https://raw.githubusercontent.com/mledoze/countries/master/dist/countries.json\">"
   ]
  },
  {
   "cell_type": "code",
   "execution_count": 24,
   "metadata": {},
   "outputs": [],
   "source": [
    "let akamai = AkamaiIpv6ByCountry.Load(\"https://www.akamai.com/fetch-dv-data/ipv6/country.json\")\n",
    "let translations = CountryTranslations.Load(\"https://raw.githubusercontent.com/mledoze/countries/master/dist/countries.json\")"
   ]
  },
  {
   "cell_type": "code",
   "execution_count": 31,
   "metadata": {},
   "outputs": [
    {
     "data": {
      "text/plain": [
       "\"Österreich\""
      ]
     },
     "execution_count": 31,
     "metadata": {},
     "output_type": "execute_result"
    }
   ],
   "source": [
    "let translate code =\n",
    "    translations\n",
    "    |> Seq.find(fun x -> x.Cca2.String = Some code)\n",
    "    |> fun x -> x.Translations.Deu.Common\n",
    "translate \"AT\""
   ]
  },
  {
   "cell_type": "code",
   "execution_count": 37,
   "metadata": {},
   "outputs": [
    {
     "data": {
      "text/plain": [
       "\"Mayotte, Indien, Saint-Barthélemy, Belgien, Vereinigte Staaten, Malaysia, Deutschland, Vietnam, Griechenland, Japan, Französisch-Guayana, Frankreich, Taiwan, Saint-Martin, Brasilien, Schweiz, Mexiko, Luxemburg, Finnland, Vereinigtes Königreich, Portugal, Thailand, Sri Lanka, Uruguay, Kanada, Estland, Australien, Ungarn, Martinique, Guadeloupe, Niederlande, Vereinigte Arabische Emirate, Réunion, Trinidad und Tobago, Neuseeland, Gabun, Norwegen, Saudi-Arabien, Bhutan, China, Rumänien, Macao, Peru, Irland, Singapur, Ecuador, Slowenien, Tschechien, Simbabwe, Sint Maarten, Bolivien, Lettland, Togo, Polen, Kenia, Russland, Guatemala\""
      ]
     },
     "execution_count": 37,
     "metadata": {},
     "output_type": "execute_result"
    }
   ],
   "source": [
    "akamai\n",
    "|> Seq.takeWhile(fun c -> c.Name <> \"Austria\")\n",
    "|> Seq.map (fun x -> x.Id.String |> Option.map translate)\n",
    "|> Seq.choose id\n",
    "|> Seq.fold (fun s c -> if s = \"\" then c else sprintf \"%s, %s\" s c) \"\""
   ]
  }
 ],
 "metadata": {
  "kernelspec": {
   "display_name": "F#",
   "language": "fsharp",
   "name": "ifsharp"
  },
  "language": "fsharp",
  "language_info": {
   "codemirror_mode": "",
   "file_extension": ".fs",
   "mimetype": "text/x-fsharp",
   "name": "fsharp",
   "nbconvert_exporter": "",
   "pygments_lexer": "",
   "version": "4.3.1.0"
  }
 },
 "nbformat": 4,
 "nbformat_minor": 2
}
