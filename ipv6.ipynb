{
 "cells": [
  {
   "cell_type": "markdown",
   "metadata": {},
   "source": [
    "# IPv6"
   ]
  },
  {
   "cell_type": "code",
   "execution_count": 1,
   "metadata": {},
   "source": [
    "#!fsharp\n",
    "#r \"nuget: FSharp.Data\""
   ],
   "outputs": [
    {
     "output_type": "execute_result",
     "data": {
      "text/plain": "Installed package FSharp.Data version 3.3.3"
     },
     "execution_count": 1,
     "metadata": {}
    }
   ]
  },
  {
   "cell_type": "code",
   "execution_count": 1,
   "metadata": {},
   "source": [
    "#!fsharp\n",
    "open FSharp.Data\n",
    "type AkamaiIpv6ByCountry = JsonProvider<\"https://www.akamai.com/fetch-dv-data/ipv6/country.json\">\n",
    "type CountryTranslations = JsonProvider<\"https://raw.githubusercontent.com/mledoze/countries/master/dist/countries.json\">"
   ],
   "outputs": []
  },
  {
   "cell_type": "code",
   "execution_count": 1,
   "metadata": {},
   "source": [
    "#!fsharp\n",
    "let akamai = AkamaiIpv6ByCountry.Load(\"https://www.akamai.com/fetch-dv-data/ipv6/country.json\")\n",
    "let translations = CountryTranslations.Load(\"https://raw.githubusercontent.com/mledoze/countries/master/dist/countries.json\")"
   ],
   "outputs": []
  },
  {
   "cell_type": "code",
   "execution_count": 1,
   "metadata": {},
   "source": [
    "#!fsharp\n",
    "let translate code =\n",
    "    translations\n",
    "    |> Seq.find(fun x -> x.Cca2.String = Some code)\n",
    "    |> fun x -> x.Translations.Deu.Common\n",
    "translate \"AT\""
   ],
   "outputs": [
    {
     "output_type": "execute_result",
     "data": {
      "text/plain": "Österreich"
     },
     "execution_count": 1,
     "metadata": {}
    }
   ]
  },
  {
   "cell_type": "code",
   "execution_count": 1,
   "metadata": {},
   "source": [
    "#!fsharp\n",
    "akamai\n",
    "|> Seq.takeWhile(fun c -> c.Name <> \"Austria\")\n",
    "|> Seq.map (fun x -> x.Id.String |> Option.map translate)\n",
    "|> Seq.choose id\n",
    "|> Seq.fold (fun s c -> if s = \"\" then c else sprintf \"%s, %s\" s c) \"\""
   ],
   "outputs": [
    {
     "output_type": "execute_result",
     "data": {
      "text/plain": "Indien, Mayotte, Belgien, Schweiz, Malaysia, Deutschland, Vereinigte Staaten, Griechenland, Saint-Barthélemy, Vietnam, Frankreich, Taiwan, Luxemburg, Französisch-Guayana, Portugal, Japan, Brasilien, Mexiko, Vereinigtes Königreich, Vereinigte Arabische Emirate, Saint-Martin, Sri Lanka, Kanada, Finnland, Estland, Uruguay, Ungarn, Thailand, Saudi-Arabien, Martinique, Australien, Neuseeland, Ecuador, Guadeloupe, Trinidad und Tobago, Niederlande, Rumänien, Gabun"
     },
     "execution_count": 1,
     "metadata": {}
    }
   ]
  }
 ],
 "metadata": {
  "kernelspec": {
   "display_name": ".NET (C#)",
   "language": "C#",
   "name": ".net-csharp"
  },
  "language_info": {
   "file_extension": ".cs",
   "mimetype": "text/x-csharp",
   "name": "C#",
   "pygments_lexer": "csharp",
   "version": "8.0"
  }
 },
 "nbformat": 4,
 "nbformat_minor": 4
}